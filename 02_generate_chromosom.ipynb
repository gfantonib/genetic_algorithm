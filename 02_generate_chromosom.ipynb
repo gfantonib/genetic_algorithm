{
 "cells": [
  {
   "cell_type": "code",
   "execution_count": 1,
   "metadata": {},
   "outputs": [],
   "source": [
    "import pandas as pd\n",
    "import numpy as np"
   ]
  },
  {
   "cell_type": "code",
   "execution_count": 2,
   "metadata": {},
   "outputs": [],
   "source": [
    "# Read Excel file into a DataFrame\n",
    "df = pd.read_excel('data.xlsx')\n",
    "\n",
    "# Change column name\n",
    "df = df.rename(columns={'Unnamed: 0': 'Lesson'})\n",
    "df = df.rename(columns={'Unnamed: 19': 'Reference'})\n",
    "\n",
    "# Remove column\n",
    "df = df.drop(columns=['Lesson'])\n",
    "\n",
    "# Create chromosome\n",
    "chromosome1 = np.array([2, 2, 2, 2, 2, 2, 2, 2, 2, 2, 2, 2, 2, 2, 2, 2, 2, 2])"
   ]
  },
  {
   "cell_type": "code",
   "execution_count": 8,
   "metadata": {},
   "outputs": [
    {
     "name": "stdout",
     "output_type": "stream",
     "text": [
      "18\n"
     ]
    }
   ],
   "source": [
    "number_of_columns = len(df.loc[:, \"X11\":\"X92\"].columns)\n",
    "print(number_of_columns)"
   ]
  },
  {
   "cell_type": "code",
   "execution_count": 19,
   "metadata": {},
   "outputs": [
    {
     "name": "stdout",
     "output_type": "stream",
     "text": [
      "Random numbers: [-0.62545988 -0.04928569 -0.26800606 -0.40134152 -0.84398136]\n"
     ]
    }
   ],
   "source": [
    "# Set the seed for reproducibility\n",
    "np.random.seed(42)\n",
    "\n",
    "# Generate 5 random numbers\n",
    "random_numbers = 2 - np.random.random(5)\n",
    "\n",
    "# Print the random numbers\n",
    "print(\"Random numbers:\", random_numbers)"
   ]
  }
 ],
 "metadata": {
  "kernelspec": {
   "display_name": "Python 3",
   "language": "python",
   "name": "python3"
  },
  "language_info": {
   "codemirror_mode": {
    "name": "ipython",
    "version": 3
   },
   "file_extension": ".py",
   "mimetype": "text/x-python",
   "name": "python",
   "nbconvert_exporter": "python",
   "pygments_lexer": "ipython3",
   "version": "3.8.10"
  }
 },
 "nbformat": 4,
 "nbformat_minor": 2
}
