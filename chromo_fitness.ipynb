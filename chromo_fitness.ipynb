{
 "cells": [
  {
   "cell_type": "code",
   "execution_count": 189,
   "metadata": {},
   "outputs": [],
   "source": [
    "import pandas as pd\n",
    "import numpy as np"
   ]
  },
  {
   "cell_type": "code",
   "execution_count": 190,
   "metadata": {},
   "outputs": [],
   "source": [
    "# Read Excel file into a DataFrame\n",
    "df = pd.read_excel('data.xlsx')\n",
    "\n",
    "# Change column name\n",
    "df = df.rename(columns={'Unnamed: 0': 'Lesson'})\n",
    "df = df.rename(columns={'Unnamed: 19': 'Reference'})\n",
    "\n",
    "# Remove column\n",
    "df = df.drop(columns=['Lesson'])"
   ]
  },
  {
   "cell_type": "code",
   "execution_count": 191,
   "metadata": {},
   "outputs": [
    {
     "name": "stdout",
     "output_type": "stream",
     "text": [
      "18\n"
     ]
    }
   ],
   "source": [
    "# Count the number of columns between X11 and X92\n",
    "\n",
    "number_of_columns = len(df.loc[:, \"X11\":\"X92\"].columns)\n",
    "print(number_of_columns)"
   ]
  },
  {
   "cell_type": "code",
   "execution_count": 192,
   "metadata": {},
   "outputs": [
    {
     "name": "stdout",
     "output_type": "stream",
     "text": [
      "24\n",
      "19\n"
     ]
    }
   ],
   "source": [
    "# Store the DataFrame reference of A's and I's\n",
    "\n",
    "total_A = df[\"Reference\"].value_counts()[\"A\"]\n",
    "total_I = df[\"Reference\"].value_counts()[\"I\"]\n",
    "\n",
    "print(total_A)\n",
    "print(total_I)"
   ]
  },
  {
   "cell_type": "code",
   "execution_count": 193,
   "metadata": {},
   "outputs": [],
   "source": [
    "# Create chromosome\n",
    "\n",
    "# Set the seed for reproducibility\n",
    "#np.random.seed(42)\n",
    "\n",
    "# Generate 5 random chromosomes\n",
    "chromosome1 = -1 + 2 * np.random.random(number_of_columns)"
   ]
  },
  {
   "cell_type": "code",
   "execution_count": 203,
   "metadata": {},
   "outputs": [],
   "source": [
    "# Define function to aply chromosome in each line of the DataFrame\n",
    "# and return the result (line * chromosome).sum()\n",
    "def chromo_action(row, chromosome1, trash):\n",
    "\tres = row * chromosome1\n",
    "\treturn (res.sum())\n",
    "\n",
    "# Call the specialized function to iterate over each line.\n",
    "# trash needed (I don't know why)\n",
    "df_op = df.loc[:, \"X11\": \"X92\"]\n",
    "trash = None\n",
    "result = df_op.apply(func=chromo_action, axis=1, args=(chromosome1, trash))"
   ]
  },
  {
   "cell_type": "code",
   "execution_count": 202,
   "metadata": {},
   "outputs": [
    {
     "data": {
      "text/html": [
       "<div>\n",
       "<style scoped>\n",
       "    .dataframe tbody tr th:only-of-type {\n",
       "        vertical-align: middle;\n",
       "    }\n",
       "\n",
       "    .dataframe tbody tr th {\n",
       "        vertical-align: top;\n",
       "    }\n",
       "\n",
       "    .dataframe thead th {\n",
       "        text-align: right;\n",
       "    }\n",
       "</style>\n",
       "<table border=\"1\" class=\"dataframe\">\n",
       "  <thead>\n",
       "    <tr style=\"text-align: right;\">\n",
       "      <th></th>\n",
       "      <th>values</th>\n",
       "      <th>Reference</th>\n",
       "    </tr>\n",
       "  </thead>\n",
       "  <tbody>\n",
       "    <tr>\n",
       "      <th>0</th>\n",
       "      <td>1.287437</td>\n",
       "      <td>A</td>\n",
       "    </tr>\n",
       "    <tr>\n",
       "      <th>1</th>\n",
       "      <td>0.253246</td>\n",
       "      <td>A</td>\n",
       "    </tr>\n",
       "    <tr>\n",
       "      <th>2</th>\n",
       "      <td>-0.328829</td>\n",
       "      <td>I</td>\n",
       "    </tr>\n",
       "    <tr>\n",
       "      <th>3</th>\n",
       "      <td>0.904896</td>\n",
       "      <td>A</td>\n",
       "    </tr>\n",
       "    <tr>\n",
       "      <th>4</th>\n",
       "      <td>-0.211999</td>\n",
       "      <td>I</td>\n",
       "    </tr>\n",
       "    <tr>\n",
       "      <th>5</th>\n",
       "      <td>-0.886088</td>\n",
       "      <td>I</td>\n",
       "    </tr>\n",
       "    <tr>\n",
       "      <th>6</th>\n",
       "      <td>0.897025</td>\n",
       "      <td>A</td>\n",
       "    </tr>\n",
       "    <tr>\n",
       "      <th>7</th>\n",
       "      <td>0.136417</td>\n",
       "      <td>A</td>\n",
       "    </tr>\n",
       "    <tr>\n",
       "      <th>8</th>\n",
       "      <td>-0.328829</td>\n",
       "      <td>I</td>\n",
       "    </tr>\n",
       "    <tr>\n",
       "      <th>9</th>\n",
       "      <td>1.482032</td>\n",
       "      <td>A</td>\n",
       "    </tr>\n",
       "  </tbody>\n",
       "</table>\n",
       "</div>"
      ],
      "text/plain": [
       "     values Reference\n",
       "0  1.287437         A\n",
       "1  0.253246         A\n",
       "2 -0.328829         I\n",
       "3  0.904896         A\n",
       "4 -0.211999         I\n",
       "5 -0.886088         I\n",
       "6  0.897025         A\n",
       "7  0.136417         A\n",
       "8 -0.328829         I\n",
       "9  1.482032         A"
      ]
     },
     "execution_count": 202,
     "metadata": {},
     "output_type": "execute_result"
    }
   ],
   "source": [
    "# Creating a new df with reference column\n",
    "\n",
    "chromo_with_ref = pd.DataFrame({'values': result, 'Reference': 'A'})\n",
    "chromo_with_ref.loc[result < 0, 'Reference'] = 'I'\n",
    "chromo_with_ref.head(10)"
   ]
  }
 ],
 "metadata": {
  "kernelspec": {
   "display_name": "Python 3",
   "language": "python",
   "name": "python3"
  },
  "language_info": {
   "codemirror_mode": {
    "name": "ipython",
    "version": 3
   },
   "file_extension": ".py",
   "mimetype": "text/x-python",
   "name": "python",
   "nbconvert_exporter": "python",
   "pygments_lexer": "ipython3",
   "version": "3.8.10"
  }
 },
 "nbformat": 4,
 "nbformat_minor": 2
}
