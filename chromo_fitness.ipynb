{
 "cells": [
  {
   "cell_type": "code",
   "execution_count": 162,
   "metadata": {},
   "outputs": [],
   "source": [
    "import pandas as pd\n",
    "import numpy as np"
   ]
  },
  {
   "cell_type": "code",
   "execution_count": 163,
   "metadata": {},
   "outputs": [
    {
     "data": {
      "text/plain": [
       "0    A\n",
       "1    A\n",
       "2    I\n",
       "3    I\n",
       "4    A\n",
       "Name: Reference, dtype: object"
      ]
     },
     "execution_count": 163,
     "metadata": {},
     "output_type": "execute_result"
    }
   ],
   "source": [
    "# Read Excel file into a DataFrame.\n",
    "df = pd.read_excel('data.xlsx')\n",
    "\n",
    "# Change column name.\n",
    "df = df.rename(columns={'Unnamed: 0': 'Lesson'})\n",
    "df = df.rename(columns={'Unnamed: 19': 'Reference'})\n",
    "\n",
    "# Remove column.\n",
    "df = df.drop(columns=['Lesson'])\n",
    "\n",
    "# Create column of reference with A and I.\n",
    "df_ref_column = df['Reference']\n",
    "\n",
    "df_ref_column.head()"
   ]
  },
  {
   "cell_type": "code",
   "execution_count": 164,
   "metadata": {},
   "outputs": [
    {
     "name": "stdout",
     "output_type": "stream",
     "text": [
      "24\n",
      "19\n"
     ]
    }
   ],
   "source": [
    "# Store the DataFrame reference of A's and I's in a int.\n",
    "total_A = df[\"Reference\"].value_counts()[\"A\"]\n",
    "total_I = df[\"Reference\"].value_counts()[\"I\"]\n",
    "\n",
    "print(total_A)\n",
    "print(total_I)"
   ]
  },
  {
   "cell_type": "code",
   "execution_count": 165,
   "metadata": {},
   "outputs": [],
   "source": [
    "# Define operative DataFrame: \n",
    "# with the columns from X11 to X92, without Reference column.\n",
    "df_op = df.loc[:, \"X11\": \"X92\"]"
   ]
  },
  {
   "cell_type": "code",
   "execution_count": 166,
   "metadata": {},
   "outputs": [
    {
     "name": "stdout",
     "output_type": "stream",
     "text": [
      "18\n"
     ]
    }
   ],
   "source": [
    "# Count the number of operatives columns (between X11 and X92).\n",
    "nbr_op_columns = len(df_op.columns)\n",
    "\n",
    "print(nbr_op_columns)"
   ]
  },
  {
   "cell_type": "code",
   "execution_count": 167,
   "metadata": {},
   "outputs": [],
   "source": [
    "# Create chromosome.\n",
    "\n",
    "# Set the seed for reproducibility\n",
    "#np.random.seed(42)\n",
    "\n",
    "# Generate n(nbr_op_columns) random chromosomes.\n",
    "chromosome1 = -1 + 2 * np.random.random(nbr_op_columns)"
   ]
  },
  {
   "cell_type": "code",
   "execution_count": 168,
   "metadata": {},
   "outputs": [
    {
     "data": {
      "text/plain": [
       "0   -1.331833\n",
       "1    0.370837\n",
       "2    0.492579\n",
       "3   -1.102303\n",
       "4   -0.154762\n",
       "dtype: float64"
      ]
     },
     "execution_count": 168,
     "metadata": {},
     "output_type": "execute_result"
    }
   ],
   "source": [
    "# Define function to aply chromosome in each line of the DataFrame\n",
    "# and return the result (line * chromosome).sum().\n",
    "def chromo_action(row, chromosome1, trash):\n",
    "\tres_mult = row * chromosome1\n",
    "\tres_sum = res_mult.sum()\n",
    "\treturn (res_sum)\n",
    "\n",
    "# Call the specialized function to iterate over each line.\n",
    "# trash needed (I don't know why).\n",
    "trash = None\n",
    "chromo_result = df_op.apply(func=chromo_action, axis=1, args=(chromosome1, trash))\n",
    "\n",
    "chromo_result.head()"
   ]
  },
  {
   "cell_type": "code",
   "execution_count": 169,
   "metadata": {},
   "outputs": [
    {
     "data": {
      "text/plain": [
       "0    I\n",
       "1    A\n",
       "2    A\n",
       "3    I\n",
       "4    I\n",
       "dtype: object"
      ]
     },
     "execution_count": 169,
     "metadata": {},
     "output_type": "execute_result"
    }
   ],
   "source": [
    "# Create chromo reference: a column (series) that contain\n",
    "# 'A' if number > 0 and 'I' if number < 0.\n",
    "chromo_reference = chromo_result.apply(lambda x: 'A' if x > 0 else 'I')\n",
    "\n",
    "chromo_reference.head()"
   ]
  },
  {
   "cell_type": "code",
   "execution_count": 170,
   "metadata": {},
   "outputs": [
    {
     "name": "stdout",
     "output_type": "stream",
     "text": [
      "10\n",
      "6\n"
     ]
    }
   ],
   "source": [
    "# Calculate how many A's and how many I's were correct.\n",
    "relative_A = ((df_ref_column == 'A') & (chromo_reference == 'A')).sum()\n",
    "relative_I = ((df_ref_column == 'I') & (chromo_reference == 'I')).sum()\n",
    "\n",
    "print(relative_A)\n",
    "print(relative_I)"
   ]
  },
  {
   "cell_type": "code",
   "execution_count": 171,
   "metadata": {},
   "outputs": [
    {
     "name": "stdout",
     "output_type": "stream",
     "text": [
      "0.13157894736842105\n"
     ]
    }
   ],
   "source": [
    "# Caulculate the fitness: the percentage of rightness of this chromosome.\n",
    "\n",
    "fitness = (relative_A * relative_I) / (total_A * total_I)\n",
    "print(fitness)"
   ]
  }
 ],
 "metadata": {
  "kernelspec": {
   "display_name": "Python 3",
   "language": "python",
   "name": "python3"
  },
  "language_info": {
   "codemirror_mode": {
    "name": "ipython",
    "version": 3
   },
   "file_extension": ".py",
   "mimetype": "text/x-python",
   "name": "python",
   "nbconvert_exporter": "python",
   "pygments_lexer": "ipython3",
   "version": "3.8.10"
  }
 },
 "nbformat": 4,
 "nbformat_minor": 2
}
