{
 "cells": [
  {
   "cell_type": "code",
   "execution_count": 422,
   "metadata": {},
   "outputs": [],
   "source": [
    "import pandas as pd\n",
    "import numpy as np"
   ]
  },
  {
   "cell_type": "code",
   "execution_count": 423,
   "metadata": {},
   "outputs": [
    {
     "data": {
      "text/plain": [
       "0    A\n",
       "1    A\n",
       "2    I\n",
       "3    I\n",
       "4    A\n",
       "Name: Reference, dtype: object"
      ]
     },
     "execution_count": 423,
     "metadata": {},
     "output_type": "execute_result"
    }
   ],
   "source": [
    "# Read Excel file into a DataFrame\n",
    "df = pd.read_excel('data.xlsx')\n",
    "\n",
    "# Change column name\n",
    "df = df.rename(columns={'Unnamed: 0': 'Lesson'})\n",
    "df = df.rename(columns={'Unnamed: 19': 'Reference'})\n",
    "\n",
    "# Remove column\n",
    "df = df.drop(columns=['Lesson'])\n",
    "df_reference = df['Reference']\n",
    "df_reference.head()"
   ]
  },
  {
   "cell_type": "code",
   "execution_count": 424,
   "metadata": {},
   "outputs": [
    {
     "name": "stdout",
     "output_type": "stream",
     "text": [
      "18\n"
     ]
    }
   ],
   "source": [
    "# Count the number of columns between X11 and X92\n",
    "\n",
    "number_of_columns = len(df.loc[:, \"X11\":\"X92\"].columns)\n",
    "print(number_of_columns)"
   ]
  },
  {
   "cell_type": "code",
   "execution_count": 425,
   "metadata": {},
   "outputs": [
    {
     "name": "stdout",
     "output_type": "stream",
     "text": [
      "24\n",
      "19\n"
     ]
    }
   ],
   "source": [
    "# Store the DataFrame reference of A's and I's\n",
    "\n",
    "total_A = df[\"Reference\"].value_counts()[\"A\"]\n",
    "total_I = df[\"Reference\"].value_counts()[\"I\"]\n",
    "\n",
    "print(total_A)\n",
    "print(total_I)"
   ]
  },
  {
   "cell_type": "code",
   "execution_count": 426,
   "metadata": {},
   "outputs": [],
   "source": [
    "# Create chromosome\n",
    "\n",
    "# Set the seed for reproducibility\n",
    "#np.random.seed(42)\n",
    "\n",
    "# Generate 5 random chromosomes\n",
    "chromosome1 = -1 + 2 * np.random.random(number_of_columns)"
   ]
  },
  {
   "cell_type": "code",
   "execution_count": 427,
   "metadata": {},
   "outputs": [],
   "source": [
    "# Define function to aply chromosome in each line of the DataFrame\n",
    "# and return the result (line * chromosome).sum()\n",
    "def chromo_action(row, chromosome1, trash):\n",
    "\tres = row * chromosome1\n",
    "\treturn (res.sum())\n",
    "\n",
    "# Call the specialized function to iterate over each line.\n",
    "# trash needed (I don't know why)\n",
    "df_op = df.loc[:, \"X11\": \"X92\"]\n",
    "trash = None\n",
    "result = df_op.apply(func=chromo_action, axis=1, args=(chromosome1, trash))"
   ]
  },
  {
   "cell_type": "code",
   "execution_count": 428,
   "metadata": {},
   "outputs": [
    {
     "data": {
      "text/plain": [
       "0    1.859649\n",
       "1    0.253561\n",
       "2    2.789510\n",
       "3    1.279352\n",
       "4   -0.115234\n",
       "dtype: float64"
      ]
     },
     "execution_count": 428,
     "metadata": {},
     "output_type": "execute_result"
    }
   ],
   "source": [
    "result.head()"
   ]
  },
  {
   "cell_type": "code",
   "execution_count": 429,
   "metadata": {},
   "outputs": [
    {
     "data": {
      "text/plain": [
       "0    A\n",
       "1    A\n",
       "2    A\n",
       "3    A\n",
       "4    I\n",
       "dtype: object"
      ]
     },
     "execution_count": 429,
     "metadata": {},
     "output_type": "execute_result"
    }
   ],
   "source": [
    "comparable_result = result.apply(lambda x: 'A' if x > 0 else 'I')\n",
    "comparable_result.head()"
   ]
  },
  {
   "cell_type": "code",
   "execution_count": 430,
   "metadata": {},
   "outputs": [
    {
     "name": "stdout",
     "output_type": "stream",
     "text": [
      "13\n",
      "0\n"
     ]
    }
   ],
   "source": [
    "relative_A = ((df_reference == 'A') & (comparable_result == 'A')).sum()\n",
    "relative_I = ((df_reference == 'I') & (comparable_result == 'I')).sum()\n",
    "\n",
    "print(relative_A)\n",
    "print(relative_I)"
   ]
  },
  {
   "cell_type": "code",
   "execution_count": 431,
   "metadata": {},
   "outputs": [
    {
     "name": "stdout",
     "output_type": "stream",
     "text": [
      "0.0\n"
     ]
    }
   ],
   "source": [
    "fitness = (relative_A * relative_I) / (total_A * total_I)\n",
    "print(fitness)"
   ]
  }
 ],
 "metadata": {
  "kernelspec": {
   "display_name": "Python 3",
   "language": "python",
   "name": "python3"
  },
  "language_info": {
   "codemirror_mode": {
    "name": "ipython",
    "version": 3
   },
   "file_extension": ".py",
   "mimetype": "text/x-python",
   "name": "python",
   "nbconvert_exporter": "python",
   "pygments_lexer": "ipython3",
   "version": "3.8.10"
  }
 },
 "nbformat": 4,
 "nbformat_minor": 2
}
