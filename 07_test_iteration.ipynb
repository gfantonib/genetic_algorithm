{
 "cells": [
  {
   "cell_type": "code",
   "execution_count": 670,
   "metadata": {},
   "outputs": [],
   "source": [
    "import pandas as pd\n",
    "import numpy as np\n",
    "import copy"
   ]
  },
  {
   "cell_type": "markdown",
   "metadata": {},
   "source": [
    "## Receive database"
   ]
  },
  {
   "cell_type": "code",
   "execution_count": 671,
   "metadata": {},
   "outputs": [],
   "source": [
    "def oil_database(df):\n",
    "\t# Remove column.\n",
    "\tdf = df.drop(columns=['Unnamed: 0'])\n",
    "\n",
    "\t# Change column name.\n",
    "\tdf = df.rename(columns={'Unnamed: 19': 'Reference'})\n",
    "\n",
    "\t# Create column of reference with A and I.\n",
    "\tdf_ref_column = df['Reference']\n",
    "\n",
    "\t# Store the DataFrame reference of A's and I's in a int.\n",
    "\ttotal_A = df[\"Reference\"].value_counts()[\"A\"]\n",
    "\ttotal_I = df[\"Reference\"].value_counts()[\"I\"]\n",
    "\n",
    "\t# Define operative DataFrame:\n",
    "\t# with the columns from X11 to X92, without Reference column.\n",
    "\tdf_op = df.loc[:, \"X11\": \"X92\"]\n",
    "\n",
    "\t# Count the number of operatives columns (between X11 and X92).\n",
    "\tnbr_operatives_columns = len(df_op.columns)\n",
    "\treturn df_op, df_ref_column, total_A, total_I, nbr_operatives_columns"
   ]
  },
  {
   "cell_type": "markdown",
   "metadata": {},
   "source": [
    "## Create firstborns"
   ]
  },
  {
   "cell_type": "code",
   "execution_count": 672,
   "metadata": {},
   "outputs": [],
   "source": [
    "def create_firstborns(nbr_operatives_columns):\n",
    "\t# Create firstborns (chromosomes).\n",
    "\n",
    "\t# Set the seed for reproducibility\n",
    "\t# np.random.seed(42)\n",
    "\n",
    "\t# Generate 6 random chromosomes.\n",
    "\tchromosome1 = -1 + 2 * np.random.random(nbr_operatives_columns + 1) # +1 for the scalar\n",
    "\tchromosome2 = -1 + 2 * np.random.random(nbr_operatives_columns + 1)\n",
    "\tchromosome3 = -1 + 2 * np.random.random(nbr_operatives_columns + 1)\n",
    "\tchromosome4 = -1 + 2 * np.random.random(nbr_operatives_columns + 1)\n",
    "\tchromosome5 = -1 + 2 * np.random.random(nbr_operatives_columns + 1)\n",
    "\tchromosome6 = -1 + 2 * np.random.random(nbr_operatives_columns + 1)\n",
    "\n",
    "\t# Create re-usable DataFrame with the current lineage\n",
    "\tdf_current_lineage = pd.DataFrame({'chromo_1':chromosome1,\n",
    "\t\t\t\t\t\t\t\t\t'chromo_2':chromosome2,\n",
    "\t\t\t\t\t\t\t\t\t'chromo_3':chromosome3,\n",
    "\t\t\t\t\t\t\t\t\t'chromo_4':chromosome4,\n",
    "\t\t\t\t\t\t\t\t\t'chromo_5':chromosome5,\n",
    "\t\t\t\t\t\t\t\t\t'chromo_6':chromosome6})\n",
    "\treturn df_current_lineage"
   ]
  },
  {
   "cell_type": "markdown",
   "metadata": {},
   "source": [
    "## Calculate chromosomes fitnes"
   ]
  },
  {
   "cell_type": "code",
   "execution_count": 673,
   "metadata": {},
   "outputs": [],
   "source": [
    "# Function to aply each chromosome for each line of the DataFrame\n",
    "# and return the result (line * chromosome).sum().\n",
    "def chromo_action(row, chromosome, scalar):\n",
    "\tres_mult = row * chromosome\n",
    "\tres_sum = res_mult.sum() + scalar\n",
    "\treturn (res_sum)\n",
    "\n",
    "# Calculate how many A's and how many I's were correct.\n",
    "def chromo_count_matches(column, df_ref_column, trash):\n",
    "\trelative_A = ((column == 'A') & (df_ref_column == 'A')).sum()\n",
    "\trelative_I = ((column == 'I') & (df_ref_column == 'I')).sum()\n",
    "\treturn pd.Series({'Right A': relative_A, 'Right I': relative_I})\n",
    "\n",
    "# Calculate the fitness for all the six chromosome\n",
    "def fitness_calculation(column, total_A, total_I):\n",
    "\trelative_numerator = np.prod(column)\n",
    "\tfitness = relative_numerator / (total_A * total_I)\n",
    "\treturn fitness\n",
    "\n",
    "def calculate_chromosomes_fitnes(df_op, df_current_lineage, df_ref_column, total_A, total_I):\n",
    "\t# Iterate df_current_lineage in database.\n",
    "\ti = 0\n",
    "\ttrash = None\n",
    "\tdf_current_lineage_fitness = pd.DataFrame()\n",
    "\tmax_i = len(df_current_lineage.columns)\n",
    "\twhile i < max_i:\n",
    "\t\tcurrent_chromosome = (df_current_lineage.iloc[1:, i]).values\n",
    "\t\tscalar = df_current_lineage.iloc[0, i]\n",
    "\t\tchromo_result = df_op.apply(func=chromo_action, axis=1, args=(current_chromosome, scalar))\n",
    "\t\tdf_current_lineage_fitness[f'Chromo {i+1} result'] = chromo_result\n",
    "\t\ti = i + 1\n",
    "\n",
    "\t# Create chromo reference: a DataFrame that contain\n",
    "\t# 'A' if number > 0 and 'I' if number < 0.\n",
    "\tdf_current_lineage_fitness = df_current_lineage_fitness.applymap(lambda x: 'A' if x > 0 else 'I')\n",
    "\n",
    "\tdf_current_lineage_fitness = df_current_lineage_fitness.apply(chromo_count_matches, args=(df_ref_column, trash))\n",
    "\n",
    "\tfitness_values = df_current_lineage_fitness.apply(fitness_calculation, args=(total_A, total_I))\n",
    "\tdf_current_lineage_fitness.loc['Fitness'] = fitness_values\n",
    "\n",
    "\t# Removing obsolete A and I rows\n",
    "\ti_remove = ['Right A', 'Right I']\n",
    "\tdf_current_lineage_fitness = df_current_lineage_fitness.drop(i_remove)\n",
    "\treturn df_current_lineage, df_current_lineage_fitness"
   ]
  },
  {
   "cell_type": "markdown",
   "metadata": {},
   "source": [
    "## Raffle"
   ]
  },
  {
   "cell_type": "code",
   "execution_count": 674,
   "metadata": {},
   "outputs": [],
   "source": [
    "def elect_father_and_mother(df_current_lineage, df_current_lineage_fitness):\n",
    "\t# Get two raffle points to choose two chromosomes.\n",
    "\t# The choosen chromosomes are going to be crossed.\n",
    "\n",
    "\t# Create array with fitness values.\n",
    "\tfitness_array = (df_current_lineage_fitness.iloc[0, :]).values\n",
    "\n",
    "\t# Sum the array.\n",
    "\tfitness_array_sum = fitness_array.sum()\n",
    "\n",
    "\t# Create new array with cumulative sum.\n",
    "\tnorm_fit_0 = round((fitness_array[0]/ fitness_array_sum) * 100)\n",
    "\tnorm_fit_1 = round((fitness_array[1]/ fitness_array_sum) * 100) + norm_fit_0\n",
    "\tnorm_fit_2 = round((fitness_array[2]/ fitness_array_sum) * 100) + norm_fit_1\n",
    "\tnorm_fit_3 = round((fitness_array[3]/ fitness_array_sum) * 100) + norm_fit_2\n",
    "\tnorm_fit_4 = round((fitness_array[4]/ fitness_array_sum) * 100) + norm_fit_3\n",
    "\tnorm_fit_5 = round((fitness_array[5]/ fitness_array_sum) * 100) + norm_fit_4\n",
    "\tnorm_fitness_array = np.array([norm_fit_0, norm_fit_1, norm_fit_2, norm_fit_3, norm_fit_4, norm_fit_5])\n",
    "\t# norm_fitness_array[5] = 1 (this value must be equal to one).\n",
    "\t# This is not used, is just a check.\n",
    "\n",
    "\t# raffle function: it resturn a position given a raffle number.\n",
    "\tdef get_raffle_point(raffle):\n",
    "\t\tmax_i = len(norm_fitness_array)\n",
    "\t\ti = 0\n",
    "\t\twhile i < max_i:\n",
    "\t\t\tif 0 <= raffle <= norm_fitness_array[0]:\n",
    "\t\t\t\treturn 0\n",
    "\t\t\telif norm_fitness_array[i] < raffle <= norm_fitness_array[i + 1]:\n",
    "\t\t\t\treturn i\n",
    "\t\t\ti = i + 1\n",
    "\n",
    "\t# Get two raffle points given a random raffle.\n",
    "\traffle_1 = round(np.random.random() * 100)\n",
    "\traffle_point_1 = get_raffle_point(raffle_1)\n",
    "\traffle_2 = round(np.random.random() * 100)\n",
    "\traffle_point_2 = get_raffle_point(raffle_2)\n",
    "\n",
    "\t# Selec (from the random above) a mother and a father chromosome.\n",
    "\tfather_chromosome = df_current_lineage.iloc[:, raffle_point_1]\n",
    "\tmother_chromosome = df_current_lineage.iloc[:, raffle_point_2]\n",
    "\treturn (father_chromosome, mother_chromosome)"
   ]
  },
  {
   "cell_type": "markdown",
   "metadata": {},
   "source": [
    "## Cross"
   ]
  },
  {
   "cell_type": "code",
   "execution_count": 675,
   "metadata": {},
   "outputs": [],
   "source": [
    "# cross function: it cross a father and a mother and generates a new born that\n",
    "# is part mother and part father. The crossing point is random.\n",
    "def cross_father_mother(father, mother):\n",
    "\tcross_point = round(18 * np.random.random())\n",
    "\tpaternal_sperm  = father[cross_point:]\n",
    "\tmaternal_egg = mother[:cross_point]\n",
    "\tnew_born = np.hstack((maternal_egg, paternal_sperm))\n",
    "\treturn (new_born)"
   ]
  },
  {
   "cell_type": "code",
   "execution_count": 676,
   "metadata": {},
   "outputs": [],
   "source": [
    "def cross_and_birth_newborns(father_chromosome, mother_chromosome):\n",
    "\t# Create 3 new borns with the same father and mother.\n",
    "\tnew_born_1 = cross_father_mother(father_chromosome.values, mother_chromosome.values)\n",
    "\tnew_born_2 = cross_father_mother(father_chromosome.values, mother_chromosome.values)\n",
    "\tnew_born_3 = cross_father_mother(father_chromosome.values, mother_chromosome.values)\n",
    "\treturn (new_born_1, new_born_2, new_born_3)"
   ]
  },
  {
   "cell_type": "markdown",
   "metadata": {},
   "source": [
    "## Mutate"
   ]
  },
  {
   "cell_type": "code",
   "execution_count": 677,
   "metadata": {},
   "outputs": [],
   "source": [
    "# Get random a single value from all the current_lineage database.\n",
    "def get_random_value(df_current_lineage):\n",
    "\t# Select a random row\n",
    "\trandom_row = df_current_lineage.sample()\n",
    "\t# Select a random column\n",
    "\trandom_column = np.random.choice(df_current_lineage.columns)\n",
    "\t# Get the value at the random row and random column\n",
    "\trandom_value = random_row[random_column].values[0]\n",
    "\treturn random_value"
   ]
  },
  {
   "cell_type": "code",
   "execution_count": 678,
   "metadata": {},
   "outputs": [],
   "source": [
    "# Function to mutate a given new born.\n",
    "def mutate_newborn(new_born, random_value):\n",
    "\tmutation_point = round(18 * np.random.random())\n",
    "\tmutated_new_born = copy.deepcopy(new_born)\n",
    "\tmutated_new_born[mutation_point] = random_value\n",
    "\treturn mutated_new_born"
   ]
  },
  {
   "cell_type": "code",
   "execution_count": 679,
   "metadata": {},
   "outputs": [],
   "source": [
    "def mutate_the_three_newborns(df_current_lineage, new_born_1, new_born_2, new_born_3):\n",
    "\t# Mutating the three new borns\n",
    "\trandom_value = get_random_value(df_current_lineage)\n",
    "\tmutated_new_born_1 = mutate_newborn(new_born_1, random_value)\n",
    "\trandom_value = get_random_value(df_current_lineage)\n",
    "\tmutated_new_born_2 = mutate_newborn(new_born_2, random_value)\n",
    "\trandom_value = get_random_value(df_current_lineage)\n",
    "\tmutated_new_born_3 = mutate_newborn(new_born_3, random_value)\n",
    "\treturn mutated_new_born_1, mutated_new_born_2, mutated_new_born_3"
   ]
  },
  {
   "cell_type": "markdown",
   "metadata": {},
   "source": [
    "## Form new lineage"
   ]
  },
  {
   "cell_type": "code",
   "execution_count": 680,
   "metadata": {},
   "outputs": [],
   "source": [
    "def calculate_three_newborn_fitness(df_op, df_ref_column, total_A, total_I, mutated_new_born_1, mutated_new_born_2, mutated_new_born_3):\n",
    "\t# Create dataframe with the three mutated newborns\n",
    "\tdf_three_newborn = pd.DataFrame({'Newborn 1': mutated_new_born_1, 'Newborn 2': mutated_new_born_2, 'Newborn 3': mutated_new_born_3})\n",
    "\n",
    "\t# Apply the same fitness flow to the new dataframe with the newborns\n",
    "\n",
    "\t# Iterate df_current_lineage in database.\n",
    "\ti = 0\n",
    "\ttrash = None\n",
    "\tdf_three_newborn_fitness = pd.DataFrame()\n",
    "\tmax_i = len(df_three_newborn.columns)\n",
    "\twhile i < max_i:\n",
    "\t\tcurrent_chromosome = (df_three_newborn.iloc[1:, i]).values\n",
    "\t\tscalar = df_three_newborn.iloc[0, i]\n",
    "\t\tchromo_result = df_op.apply(func=chromo_action, axis=1, args=(current_chromosome, scalar))\n",
    "\t\tdf_three_newborn_fitness[f'Newborn {i+1} result'] = chromo_result\n",
    "\t\ti = i + 1\n",
    "\n",
    "\t# Create chromo reference: a DataFrame that contain\n",
    "\t# 'A' if number > 0 and 'I' if number < 0.\n",
    "\tdf_three_newborn_fitness = df_three_newborn_fitness.applymap(lambda x: 'A' if x > 0 else 'I')\n",
    "\n",
    "\t# Calculate how many A's and how many I's were correct.\n",
    "\tdf_three_newborn_fitness = df_three_newborn_fitness.apply(chromo_count_matches, args=(df_ref_column, trash))\n",
    "\n",
    "\t# Calculate the fitness for all the six chromosome\n",
    "\tfitness_values = df_three_newborn_fitness.apply(fitness_calculation, args=(total_A, total_I))\n",
    "\tdf_three_newborn_fitness.loc['Fitness'] = fitness_values\n",
    "\n",
    "\t# Removing obsolete A and I rows\n",
    "\ti_remove = ['Right A', 'Right I']\n",
    "\tdf_three_newborn_fitness = df_three_newborn_fitness.drop(i_remove)\n",
    "\treturn df_three_newborn, df_three_newborn_fitness"
   ]
  },
  {
   "cell_type": "code",
   "execution_count": 681,
   "metadata": {},
   "outputs": [],
   "source": [
    "def select_new_lineage(df_current_lineage, df_current_lineage_fitness, df_three_newborn, df_three_newborn_fitness):\n",
    "\t# Choose the best two between the three newborns\n",
    "\tmin_column_name = (df_three_newborn_fitness.min().idxmin())\n",
    "\tmin_column_name = df_three_newborn_fitness.columns.get_loc(min_column_name)\n",
    "\tdf_three_newborn_less_one = df_three_newborn.drop(df_three_newborn.columns[min_column_name], axis=1)\n",
    "\n",
    "\t# Remove the worst two between the six from the current lineage\n",
    "\tdf_current_lineage_fitness_stacked = df_current_lineage_fitness.stack()\n",
    "\tsmallest_indices = df_current_lineage_fitness_stacked.nsmallest(2).index\n",
    "\tmin_column_index_one = df_current_lineage_fitness.columns.get_loc(smallest_indices[0][1])\n",
    "\tmin_column_index_two = df_current_lineage_fitness.columns.get_loc(smallest_indices[1][1])\n",
    "\tdf_current_lineage_less_two = df_current_lineage.drop(df_current_lineage.columns[[min_column_index_one, min_column_index_two]], axis=1)\n",
    "\n",
    "\t# Create new lineage by joining the two best from the newborns and the four best from the current lineage\n",
    "\tdf_new_lineage = pd.concat([df_current_lineage_less_two, df_three_newborn_less_one], axis=1)\n",
    "\tnew_columns_names = ['chromo_1', 'chromo_2', 'chromo_3', 'chromo_4', 'chromo_5', 'chromo_6']\n",
    "\tdf_new_lineage.columns = new_columns_names\n",
    "\treturn df_new_lineage\n"
   ]
  },
  {
   "cell_type": "code",
   "execution_count": 683,
   "metadata": {},
   "outputs": [
    {
     "name": "stdout",
     "output_type": "stream",
     "text": [
      "         Chromo 1 result  Chromo 2 result  Chromo 3 result  Chromo 4 result  \\\n",
      "Fitness         0.078947            0.125         0.473684         0.092105   \n",
      "\n",
      "         Chromo 5 result  Chromo 6 result  \n",
      "Fitness         0.076754         0.315789  \n"
     ]
    }
   ],
   "source": [
    "# Read Excel file into a DataFrame.\n",
    "df = pd.read_excel('data.xlsx')\n",
    "\n",
    "df_op, df_ref_column, total_A, total_I, nbr_operatives_columns = oil_database(df)\n",
    "df_current_lineage = create_firstborns(nbr_operatives_columns)\n",
    "\n",
    "i = 0\n",
    "while (i < 1000):\n",
    "\n",
    "\tdf_current_lineage, df_current_lineage_fitness = calculate_chromosomes_fitnes(df_op, df_current_lineage, df_ref_column, total_A, total_I)\n",
    "\tfather_chromosome, mother_chromosome = elect_father_and_mother(df_current_lineage, df_current_lineage_fitness)\n",
    "\tnew_born_1, new_born_2, new_born_3 = cross_and_birth_newborns(father_chromosome, mother_chromosome)\n",
    "\tmutated_new_born_1, mutated_new_born_2, mutated_new_born_3 = mutate_the_three_newborns(df_current_lineage, new_born_1, new_born_2, new_born_3)\n",
    "\tdf_three_newborn, df_three_newborn_fitness = calculate_three_newborn_fitness(df_op, df_ref_column, total_A, total_I, mutated_new_born_1, mutated_new_born_2, mutated_new_born_3)\n",
    "\tdf_new_lineage = select_new_lineage(df_current_lineage, df_current_lineage_fitness, df_three_newborn, df_three_newborn_fitness)\n",
    "\ti = i + 1\n",
    "\n",
    "print(df_current_lineage_fitness)"
   ]
  }
 ],
 "metadata": {
  "kernelspec": {
   "display_name": "Python 3",
   "language": "python",
   "name": "python3"
  },
  "language_info": {
   "codemirror_mode": {
    "name": "ipython",
    "version": 3
   },
   "file_extension": ".py",
   "mimetype": "text/x-python",
   "name": "python",
   "nbconvert_exporter": "python",
   "pygments_lexer": "ipython3",
   "version": "3.8.10"
  }
 },
 "nbformat": 4,
 "nbformat_minor": 2
}
