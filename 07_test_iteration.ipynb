{
 "cells": [
  {
   "cell_type": "code",
   "execution_count": 427,
   "metadata": {},
   "outputs": [],
   "source": [
    "import pandas as pd\n",
    "import numpy as np\n",
    "import copy"
   ]
  },
  {
   "cell_type": "markdown",
   "metadata": {},
   "source": [
    "## Receive database"
   ]
  },
  {
   "cell_type": "code",
   "execution_count": 428,
   "metadata": {},
   "outputs": [],
   "source": [
    "# Read Excel file into a DataFrame.\n",
    "df = pd.read_excel('data.xlsx')\n",
    "\n",
    "# Remove column.\n",
    "df = df.drop(columns=['Unnamed: 0'])\n",
    "\n",
    "# Change column name.\n",
    "df = df.rename(columns={'Unnamed: 19': 'Reference'})\n",
    "\n",
    "# Create column of reference with A and I.\n",
    "df_ref_column = df['Reference']\n",
    "\n",
    "# Store the DataFrame reference of A's and I's in a int.\n",
    "total_A = df[\"Reference\"].value_counts()[\"A\"]\n",
    "total_I = df[\"Reference\"].value_counts()[\"I\"]\n",
    "\n",
    "# Define operative DataFrame:\n",
    "# with the columns from X11 to X92, without Reference column.\n",
    "df_op = df.loc[:, \"X11\": \"X92\"]\n",
    "\n",
    "# Count the number of operatives columns (between X11 and X92).\n",
    "nbr_operatives_columns = len(df_op.columns)"
   ]
  },
  {
   "cell_type": "markdown",
   "metadata": {},
   "source": [
    "## Create firstborns"
   ]
  },
  {
   "cell_type": "code",
   "execution_count": 429,
   "metadata": {},
   "outputs": [],
   "source": [
    "# Create firstborns (chromosomes).\n",
    "\n",
    "# Set the seed for reproducibility\n",
    "#np.random.seed(42)\n",
    "\n",
    "# Generate 6 random chromosomes.\n",
    "chromosome1 = -1 + 2 * np.random.random(nbr_operatives_columns + 1) # +1 for the scalar\n",
    "chromosome2 = -1 + 2 * np.random.random(nbr_operatives_columns + 1)\n",
    "chromosome3 = -1 + 2 * np.random.random(nbr_operatives_columns + 1)\n",
    "chromosome4 = -1 + 2 * np.random.random(nbr_operatives_columns + 1)\n",
    "chromosome5 = -1 + 2 * np.random.random(nbr_operatives_columns + 1)\n",
    "chromosome6 = -1 + 2 * np.random.random(nbr_operatives_columns + 1)\n",
    "\n",
    "# Create re-usable DataFrame with the current lineage\n",
    "df_current_lineage = pd.DataFrame({'chromo_1':chromosome1,\n",
    "\t\t\t\t\t\t\t\t   'chromo_2':chromosome2,\n",
    "\t\t\t\t\t\t\t\t   'chromo_3':chromosome3,\n",
    "\t\t\t\t\t\t\t\t   'chromo_4':chromosome4,\n",
    "\t\t\t\t\t\t\t\t   'chromo_5':chromosome5,\n",
    "\t\t\t\t\t\t\t\t   'chromo_6':chromosome6})"
   ]
  },
  {
   "cell_type": "markdown",
   "metadata": {},
   "source": [
    "## Calculate chromosomes fitnes"
   ]
  },
  {
   "cell_type": "code",
   "execution_count": 430,
   "metadata": {},
   "outputs": [],
   "source": [
    "# Function to aply each chromosome for each line of the DataFrame\n",
    "# and return the result (line * chromosome).sum().\n",
    "def chromo_action(row, chromosome, scalar, trash):\n",
    "\tres_mult = row * chromosome\n",
    "\tres_sum = res_mult.sum() + scalar\n",
    "\treturn (res_sum)\n",
    "\n",
    "# Iterate df_current_lineage in database.\n",
    "i = 0\n",
    "trash = None\n",
    "df_current_lineage_fitness = pd.DataFrame()\n",
    "max_i = len(df_current_lineage.columns)\n",
    "while i < max_i:\n",
    "\tcurrent_chromosome = (df_current_lineage.iloc[1:, i]).values\n",
    "\tscalar = df_current_lineage.iloc[0, i]\n",
    "\tchromo_result = df_op.apply(func=chromo_action, axis=1, args=(current_chromosome, scalar, trash))\n",
    "\tdf_current_lineage_fitness[f'Chromo {i+1} result'] = chromo_result\n",
    "\ti = i + 1\n",
    "\n",
    "# Create chromo reference: a DataFrame that contain\n",
    "# 'A' if number > 0 and 'I' if number < 0.\n",
    "df_current_lineage_fitness = df_current_lineage_fitness.applymap(lambda x: 'A' if x > 0 else 'I')\n",
    "\n",
    "# Calculate how many A's and how many I's were correct.\n",
    "def chromo_count_matches(column):\n",
    "\trelative_A = ((column == 'A') & (df_ref_column == 'A')).sum()\n",
    "\trelative_I = ((column == 'I') & (df_ref_column == 'I')).sum()\n",
    "\treturn pd.Series({'Right A': relative_A, 'Right I': relative_I})\n",
    "\n",
    "df_current_lineage_fitness = df_current_lineage_fitness.apply(chromo_count_matches)\n",
    "\n",
    "# Calculate the fitness for all the six chromosome\n",
    "def fitness_calculation(column):\n",
    "\trelative_numerator = np.prod(column)\n",
    "\tfitness = relative_numerator / (total_A * total_I)\n",
    "\treturn fitness\n",
    "\n",
    "fitness_values = df_current_lineage_fitness.apply(fitness_calculation)\n",
    "df_current_lineage_fitness.loc['Fitness'] = fitness_values\n",
    "\n",
    "# Removing obsolete A and I rows\n",
    "i_remove = ['Right A', 'Right I']\n",
    "df_current_lineage_fitness = df_current_lineage_fitness.drop(i_remove)"
   ]
  },
  {
   "cell_type": "markdown",
   "metadata": {},
   "source": [
    "## Raffle"
   ]
  },
  {
   "cell_type": "code",
   "execution_count": 431,
   "metadata": {},
   "outputs": [],
   "source": [
    "# Get two raffle points to choose two chromosomes.\n",
    "# The choosen chromosomes are going to be crossed.\n",
    "\n",
    "# Create array with fitness values.\n",
    "fitness_array = (df_current_lineage_fitness.iloc[0, :]).values\n",
    "\n",
    "# Sum the array.\n",
    "fitness_array_sum = fitness_array.sum()\n",
    "\n",
    "# Create new array with cumulative sum.\n",
    "norm_fit_0 = round((fitness_array[0]/ fitness_array_sum) * 100)\n",
    "norm_fit_1 = round((fitness_array[1]/ fitness_array_sum) * 100) + norm_fit_0\n",
    "norm_fit_2 = round((fitness_array[2]/ fitness_array_sum) * 100) + norm_fit_1\n",
    "norm_fit_3 = round((fitness_array[3]/ fitness_array_sum) * 100) + norm_fit_2\n",
    "norm_fit_4 = round((fitness_array[4]/ fitness_array_sum) * 100) + norm_fit_3\n",
    "norm_fit_5 = round((fitness_array[5]/ fitness_array_sum) * 100) + norm_fit_4\n",
    "norm_fitness_array = np.array([norm_fit_0, norm_fit_1, norm_fit_2, norm_fit_3, norm_fit_4, norm_fit_5])\n",
    "# norm_fitness_array[5] = 1 (this value must be equal to one).\n",
    "# This is not used, is just a check.\n",
    "\n",
    "# raffle function: it resturn a position given a raffle number.\n",
    "def get_raffle_point(raffle):\n",
    "\tmax_i = len(norm_fitness_array)\n",
    "\ti = 0\n",
    "\twhile i < max_i:\n",
    "\t\tif 0 <= raffle <= norm_fitness_array[0]:\n",
    "\t\t\treturn 0\n",
    "\t\telif norm_fitness_array[i] < raffle <= norm_fitness_array[i + 1]:\n",
    "\t\t\treturn i\n",
    "\t\ti = i + 1\n",
    "\n",
    "# Get two raffle points given a random raffle.\n",
    "raffle_1 = round(np.random.random() * 100)\n",
    "raffle_point_1 = get_raffle_point(raffle_1)\n",
    "raffle_2 = round(np.random.random() * 100)\n",
    "raffle_point_2 = get_raffle_point(raffle_2)\n",
    "\n",
    "# Selec (from the random above) a mother and a father chromosome.\n",
    "father_chromosome = df_current_lineage.iloc[:, raffle_point_1]\n",
    "mother_chromosome = df_current_lineage.iloc[:, raffle_point_2]"
   ]
  },
  {
   "cell_type": "markdown",
   "metadata": {},
   "source": [
    "## Cross"
   ]
  },
  {
   "cell_type": "code",
   "execution_count": 432,
   "metadata": {},
   "outputs": [],
   "source": [
    "# cross function: it cross a father and a mother and generates a new born that\n",
    "# is part mother and part father. The crossing point is random.\n",
    "def cross_father_mother(father, mother):\n",
    "\tcross_point = round(18 * np.random.random())\n",
    "\tpaternal_sperm  = father[cross_point:]\n",
    "\tmaternal_egg = mother[:cross_point]\n",
    "\tnew_born = np.hstack((maternal_egg, paternal_sperm))\n",
    "\treturn (new_born)\n",
    "\n",
    "# Create 3 new borns with the same father and mother.\n",
    "new_born_1 = cross_father_mother(father_chromosome.values, mother_chromosome.values)\n",
    "new_born_2 = cross_father_mother(father_chromosome.values, mother_chromosome.values)\n",
    "new_born_3 = cross_father_mother(father_chromosome.values, mother_chromosome.values)"
   ]
  },
  {
   "cell_type": "markdown",
   "metadata": {},
   "source": [
    "## Mutate"
   ]
  },
  {
   "cell_type": "code",
   "execution_count": 433,
   "metadata": {},
   "outputs": [],
   "source": [
    "# Get random a single value from all the current_lineage database.\n",
    "def get_random_value(df_current_lineage):\n",
    "\t# Select a random row\n",
    "\trandom_row = df_current_lineage.sample()\n",
    "\t# Select a random column\n",
    "\trandom_column = np.random.choice(df_current_lineage.columns)\n",
    "\t# Get the value at the random row and random column\n",
    "\trandom_value = random_row[random_column].values[0]\n",
    "\treturn random_value"
   ]
  },
  {
   "cell_type": "code",
   "execution_count": 434,
   "metadata": {},
   "outputs": [],
   "source": [
    "# Function to mutate a given new born.\n",
    "def mutate_newborn(new_born, random_value):\n",
    "\tmutation_point = round(18 * np.random.random())\n",
    "\tmutated_new_born = copy.deepcopy(new_born)\n",
    "\tmutated_new_born[mutation_point] = random_value\n",
    "\treturn mutated_new_born"
   ]
  },
  {
   "cell_type": "code",
   "execution_count": 435,
   "metadata": {},
   "outputs": [],
   "source": [
    "# Mutating the three new borns\n",
    "random_value = get_random_value(df_current_lineage)\n",
    "mutated_new_born_1 = mutate_newborn(new_born_1, random_value)\n",
    "random_value = get_random_value(df_current_lineage)\n",
    "mutated_new_born_2 = mutate_newborn(new_born_2, random_value)\n",
    "random_value = get_random_value(df_current_lineage)\n",
    "mutated_new_born_3 = mutate_newborn(new_born_3, random_value)"
   ]
  },
  {
   "cell_type": "markdown",
   "metadata": {},
   "source": [
    "## Form new lineage"
   ]
  },
  {
   "cell_type": "code",
   "execution_count": 436,
   "metadata": {},
   "outputs": [],
   "source": [
    "# Create dataframe with the three mutated newborns\n",
    "df_three_newborn = pd.DataFrame({'Newborn 1':mutated_new_born_1, 'Newborn 2':mutated_new_born_2, 'Newborn 3':mutated_new_born_3})\n",
    "\n",
    "# Apply the same fitness flow to the new dataframe with the newborns\n",
    "\n",
    "# Iterate df_current_lineage in database.\n",
    "i = 0\n",
    "trash = None\n",
    "df_three_newborn_fitness = pd.DataFrame()\n",
    "max_i = len(df_three_newborn.columns)\n",
    "while i < max_i:\n",
    "\tcurrent_chromosome = (df_three_newborn.iloc[1:, i]).values\n",
    "\tscalar = df_three_newborn.iloc[0, i]\n",
    "\tchromo_result = df_op.apply(func=chromo_action, axis=1, args=(current_chromosome, scalar, trash))\n",
    "\tdf_three_newborn_fitness[f'Newborn {i+1} result'] = chromo_result\n",
    "\ti = i + 1\n",
    "\n",
    "# Create chromo reference: a DataFrame that contain\n",
    "# 'A' if number > 0 and 'I' if number < 0.\n",
    "df_three_newborn_fitness = df_three_newborn_fitness.applymap(lambda x: 'A' if x > 0 else 'I')\n",
    "\n",
    "# Calculate how many A's and how many I's were correct.\n",
    "df_three_newborn_fitness = df_three_newborn_fitness.apply(chromo_count_matches)\n",
    "\n",
    "# Calculate the fitness for all the six chromosome\n",
    "fitness_values = df_three_newborn_fitness.apply(fitness_calculation)\n",
    "df_three_newborn_fitness.loc['Fitness'] = fitness_values\n",
    "\n",
    "# Removing obsolete A and I rows\n",
    "i_remove = ['Right A', 'Right I']\n",
    "df_three_newborn_fitness = df_three_newborn_fitness.drop(i_remove)"
   ]
  },
  {
   "cell_type": "code",
   "execution_count": 437,
   "metadata": {},
   "outputs": [],
   "source": [
    "# Choose the best two between the three newborns\n",
    "min_column_name = (df_three_newborn_fitness.min().idxmin())\n",
    "min_column_name = df_three_newborn_fitness.columns.get_loc(min_column_name)\n",
    "df_three_newborn_less_one = df_three_newborn.drop(df_three_newborn.columns[min_column_name], axis=1)\n",
    "\n",
    "# Remove the worst two between the six from the current lineage\n",
    "df_current_lineage_fitness_stacked = df_current_lineage_fitness.stack()\n",
    "smallest_indices = df_current_lineage_fitness_stacked.nsmallest(2).index\n",
    "min_column_index_one = df_current_lineage_fitness.columns.get_loc(smallest_indices[0][1])\n",
    "min_column_index_two = df_current_lineage_fitness.columns.get_loc(smallest_indices[1][1])\n",
    "df_current_lineage_less_two = df_current_lineage.drop(df_current_lineage.columns[[min_column_index_one, min_column_index_two]], axis=1)\n",
    "\n",
    "# Create new lineage by joining the two best from the newborns and the four best from the current lineage\n",
    "df_new_lineage = pd.concat([df_current_lineage_less_two, df_three_newborn_less_one], axis=1)\n",
    "new_columns_names = ['chromo_1', 'chromo_2', 'chromo_3', 'chromo_4', 'chromo_5', 'chromo_6']\n",
    "df_new_lineage.columns = new_columns_names\n"
   ]
  }
 ],
 "metadata": {
  "kernelspec": {
   "display_name": "Python 3",
   "language": "python",
   "name": "python3"
  },
  "language_info": {
   "codemirror_mode": {
    "name": "ipython",
    "version": 3
   },
   "file_extension": ".py",
   "mimetype": "text/x-python",
   "name": "python",
   "nbconvert_exporter": "python",
   "pygments_lexer": "ipython3",
   "version": "3.8.10"
  }
 },
 "nbformat": 4,
 "nbformat_minor": 2
}
