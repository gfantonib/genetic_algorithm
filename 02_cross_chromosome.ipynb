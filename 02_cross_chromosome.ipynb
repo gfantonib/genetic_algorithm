{
 "cells": [
  {
   "cell_type": "code",
   "execution_count": 22,
   "metadata": {},
   "outputs": [],
   "source": [
    "import pandas as pd\n",
    "import numpy as np"
   ]
  },
  {
   "cell_type": "markdown",
   "metadata": {},
   "source": [
    "## Create Chromosome"
   ]
  },
  {
   "cell_type": "code",
   "execution_count": 23,
   "metadata": {},
   "outputs": [],
   "source": [
    "# Read Excel file into a DataFrame\n",
    "df = pd.read_excel('data.xlsx')\n",
    "\n",
    "# Change column name\n",
    "df = df.rename(columns={'Unnamed: 0': 'Lesson'})\n",
    "df = df.rename(columns={'Unnamed: 19': 'Reference'})\n",
    "\n",
    "# Remove column\n",
    "df = df.drop(columns=['Lesson'])"
   ]
  },
  {
   "cell_type": "code",
   "execution_count": 24,
   "metadata": {},
   "outputs": [
    {
     "name": "stdout",
     "output_type": "stream",
     "text": [
      "18\n"
     ]
    }
   ],
   "source": [
    "number_of_columns = len(df.loc[:, \"X11\":\"X92\"].columns)\n",
    "print(number_of_columns)"
   ]
  },
  {
   "cell_type": "code",
   "execution_count": 25,
   "metadata": {},
   "outputs": [
    {
     "name": "stdout",
     "output_type": "stream",
     "text": [
      "[-0.25091976  0.90142861  0.46398788  0.19731697 -0.68796272 -0.68801096\n",
      " -0.88383278  0.73235229  0.20223002  0.41614516 -0.95883101  0.9398197\n",
      "  0.66488528 -0.57532178 -0.63635007 -0.63319098 -0.39151551  0.04951286]\n",
      "\n",
      "[-0.13610996 -0.41754172  0.22370579 -0.72101228 -0.4157107  -0.26727631\n",
      " -0.08786003  0.57035192 -0.60065244  0.02846888  0.18482914 -0.90709917\n",
      "  0.2150897  -0.65895175 -0.86989681  0.89777107  0.93126407  0.6167947 ]\n",
      "\n",
      "[-0.39077246 -0.80465577  0.36846605 -0.11969501 -0.75592353 -0.00964618\n",
      " -0.93122296  0.8186408  -0.48244004  0.32504457 -0.37657785  0.04013604\n",
      "  0.09342056 -0.63029109  0.93916926  0.55026565  0.87899788  0.7896547 ]\n",
      "\n",
      "[ 0.19579996  0.84374847 -0.823015   -0.60803428 -0.90954542 -0.34933934\n",
      " -0.22264542 -0.45730194  0.65747502 -0.28649335 -0.43813098  0.08539217\n",
      " -0.71815155  0.60439396 -0.85089871  0.97377387  0.54448954 -0.60256864]\n",
      "\n",
      "[-0.98895577  0.63092286  0.41371469  0.45801434  0.54254069 -0.8519107\n",
      " -0.28306854 -0.76826188  0.72620685  0.24659625 -0.33820395 -0.8728833\n",
      " -0.37803536 -0.34963336  0.45921236  0.27511494  0.77442549 -0.05557015]\n",
      "\n",
      "[-0.76081151  0.42648957  0.5215701   0.1225544   0.54193436 -0.01240881\n",
      "  0.04546566 -0.14491796 -0.94916175 -0.78421715 -0.93714163  0.27282082\n",
      " -0.37128804  0.01714138  0.81513295 -0.50141554 -0.17923415  0.51110228]\n"
     ]
    }
   ],
   "source": [
    "# Set the seed for reproducibility\n",
    "np.random.seed(42)\n",
    "\n",
    "# Generate 5 random chromosomes\n",
    "chromosome1 = -1 + 2 * np.random.random(number_of_columns)\n",
    "chromosome2 = -1 + 2 * np.random.random(number_of_columns)\n",
    "chromosome3 = -1 + 2 * np.random.random(number_of_columns)\n",
    "chromosome4 = -1 + 2 * np.random.random(number_of_columns)\n",
    "chromosome5 = -1 + 2 * np.random.random(number_of_columns)\n",
    "chromosome6 = -1 + 2 * np.random.random(number_of_columns)\n",
    "\n",
    "# Print the random chromosomes\n",
    "print(chromosome1)\n",
    "print()\n",
    "print(chromosome2)\n",
    "print()\n",
    "print(chromosome3)\n",
    "print()\n",
    "print(chromosome4)\n",
    "print()\n",
    "print(chromosome5)\n",
    "print()\n",
    "print(chromosome6)"
   ]
  },
  {
   "cell_type": "markdown",
   "metadata": {},
   "source": [
    "## Cross Chromosome"
   ]
  },
  {
   "cell_type": "code",
   "execution_count": 213,
   "metadata": {},
   "outputs": [
    {
     "name": "stdout",
     "output_type": "stream",
     "text": [
      "[-0.25091976  0.90142861  0.46398788  0.19731697 -0.68796272 -0.68801096\n",
      " -0.88383278  0.73235229  0.20223002  0.41614516 -0.95883101  0.9398197\n",
      "  0.66488528 -0.57532178 -0.63635007 -0.63319098 -0.39151551  0.04951286]\n",
      "\n",
      "[-0.25091976  0.90142861  0.46398788  0.19731697 -0.68796272 -0.68801096\n",
      " -0.88383278  0.73235229  0.20223002  0.41614516 -0.95883101  0.9398197\n",
      "  0.66488528 -0.57532178 -0.63635007 -0.63319098 -0.39151551  0.04951286]\n"
     ]
    }
   ],
   "source": [
    "cross_point = round(17 * np.random.random())\n",
    "paternal_sperm  = chromosome1[cross_point:]\n",
    "maternal_egg = chromosome1[:cross_point]\n",
    "new_born = np.hstack((maternal_egg, paternal_sperm))\n",
    "\n",
    "print(new_born)\n",
    "print()\n",
    "print(chromosome1)"
   ]
  },
  {
   "cell_type": "code",
   "execution_count": null,
   "metadata": {},
   "outputs": [],
   "source": []
  }
 ],
 "metadata": {
  "kernelspec": {
   "display_name": "Python 3",
   "language": "python",
   "name": "python3"
  },
  "language_info": {
   "codemirror_mode": {
    "name": "ipython",
    "version": 3
   },
   "file_extension": ".py",
   "mimetype": "text/x-python",
   "name": "python",
   "nbconvert_exporter": "python",
   "pygments_lexer": "ipython3",
   "version": "3.8.10"
  }
 },
 "nbformat": 4,
 "nbformat_minor": 2
}
